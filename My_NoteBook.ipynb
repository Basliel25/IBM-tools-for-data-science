{
 "cells": [
  {
   "cell_type": "markdown",
   "id": "0772b2df-7cf5-4929-a361-af60c8fcc39a",
   "metadata": {},
   "source": [
    "<h1>My Jupyter Notebook on IBM Watson Studio<h1/>"
   ]
  },
  {
   "cell_type": "markdown",
   "id": "c1bec1a8-33e6-447c-a1c7-67795c7a5f95",
   "metadata": {},
   "source": [
    "<b>Basliel Binalf Gugsa</b>\n",
    "<br/>\n",
    "Computer Engineer"
   ]
  },
  {
   "cell_type": "markdown",
   "id": "863c336e-1c62-4cae-87a2-2dec7ebcd463",
   "metadata": {},
   "source": [
    "<i>I am interested in Data Science because it enables me to generate meaningful insights from data. I want to develop the skill of telling stories extracted from data.</i>"
   ]
  },
  {
   "cell_type": "markdown",
   "id": "12eaf379-6c87-4693-903c-ac91d181a201",
   "metadata": {},
   "source": [
    "<h3>My code is a mathemtical analyis of the addition of two numbers.</h3>"
   ]
  },
  {
   "cell_type": "code",
   "execution_count": 6,
   "id": "10e4d3b9-2516-4b37-99e1-ace22c448c76",
   "metadata": {},
   "outputs": [
    {
     "data": {
      "text/plain": [
       "2"
      ]
     },
     "execution_count": 6,
     "metadata": {},
     "output_type": "execute_result"
    }
   ],
   "source": [
    "1+1"
   ]
  },
  {
   "cell_type": "markdown",
   "id": "f4bce733-8afb-4dce-8efd-a62b21a8b837",
   "metadata": {},
   "source": [
    "<b>Possible pet types</b>\n",
    "<li>White Owl</li>\n",
    "<li>Dog</li>\n",
    "<li><a src = \"https://potatogoodness.com/\"><mark>Potato (this is a link)</mark></a></li>\n",
    "<br/>\n",
    "<blockquote>To potato or not to potato</blockquote>\n"
   ]
  },
  {
   "cell_type": "code",
   "execution_count": null,
   "id": "994d2e58-4e3b-4e8a-a503-e3fd9c596cab",
   "metadata": {},
   "outputs": [],
   "source": []
  }
 ],
 "metadata": {
  "kernelspec": {
   "display_name": "Python 3 (ipykernel)",
   "language": "python",
   "name": "python3"
  },
  "language_info": {
   "codemirror_mode": {
    "name": "ipython",
    "version": 3
   },
   "file_extension": ".py",
   "mimetype": "text/x-python",
   "name": "python",
   "nbconvert_exporter": "python",
   "pygments_lexer": "ipython3",
   "version": "3.11.0"
  }
 },
 "nbformat": 4,
 "nbformat_minor": 5
}
